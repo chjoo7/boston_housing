{
 "cells": [
  {
   "cell_type": "markdown",
   "metadata": {
    "cellView": "form",
    "id": "QUyRGn9riopB"
   },
   "source": [
    "### 주택가격 예측 문제: 회귀 예\n",
    "- Boston Housing Price 데이터세트\n",
    "- 1970년 중반의 보스톤 외곽 주택의 평균 가격을 예측하는 문제.  재산세율, 범죄율등의 데이터가 집값을 예측하는데 사용됨.\n",
    "- 데이터세트 506 샘플 중 404개가 훈련 용, 102개가 테스트 용으로 구분\n",
    "- 13개의 feature 들 (예, 범죄율)이, 각각 다른 범위를 가지고 있음. 어떤 feature 는 0과1 사이의 비율을, 어떤 feature 는 1과 12사이의 범위 등등"
   ]
  },
  {
   "cell_type": "markdown",
   "metadata": {
    "id": "H1yCdGFW4j_F"
   },
   "source": [
    "- Keras 에 내장된 Boston housing 데이터세트를 로드"
   ]
  },
  {
   "cell_type": "code",
   "execution_count": null,
   "metadata": {
    "id": "PS6_yKSoyLAl"
   },
   "outputs": [],
   "source": [
    "from tensorflow.keras.datasets import boston_housing\n",
    "(train_data, train_targets), (test_data, test_targets) = boston_housing.load_data()"
   ]
  },
  {
   "cell_type": "code",
   "execution_count": null,
   "metadata": {
    "id": "R4YZ_ievcY7p"
   },
   "outputs": [],
   "source": [
    "train_data.shape"
   ]
  },
  {
   "cell_type": "markdown",
   "metadata": {},
   "source": [
    "- 404 training sample 과 102 test sample 을 가지고 있음\n",
    "- 각각 13개의 숫자로 표현된 feature 들 예를들어, 1인당 소득별 범죄율, 거주를 위한 평균 방의 수, 하이웨이로의 접근성등을 보유"
   ]
  },
  {
   "cell_type": "code",
   "execution_count": null,
   "metadata": {
    "id": "8IFct0yedsTy"
   },
   "outputs": [],
   "source": [
    "test_data.shape"
   ]
  },
  {
   "cell_type": "markdown",
   "metadata": {},
   "source": [
    "- target 은 자가 소유의 평균 주택 값을 표시 단위는 천달러"
   ]
  },
  {
   "cell_type": "code",
   "execution_count": null,
   "metadata": {
    "id": "jPo5bQwndr9P"
   },
   "outputs": [],
   "source": [
    "train_targets"
   ]
  },
  {
   "cell_type": "markdown",
   "metadata": {
    "id": "c5w4m5gncnGh"
   },
   "source": [
    "### 데이터 준비 \n",
    "- 피쳐(행)들의 범위가 제 각각 이어서 feature-wise normalization 을 시행\n",
    "- 각각의 feature 값과 평균과의 차를 구한다음, 표준 편차로 나누어 줌  (x - $\\mu) $/ $\\delta$"
   ]
  },
  {
   "cell_type": "code",
   "execution_count": null,
   "metadata": {
    "id": "lSyrXp_He_UE"
   },
   "outputs": [],
   "source": [
    "mean = train_data.mean(axis=0)\n",
    "train_data -= mean                 # train_data 와 평균과의 차이 를 구함\n",
    "std = train_data.std(axis=0)\n",
    "train_data /= std                  # 이를 standard deviation 과 나누어 줌\n",
    "test_data -= mean\n",
    "test_data /= std"
   ]
  },
  {
   "cell_type": "markdown",
   "metadata": {
    "id": "j6mTfIQzfC9w"
   },
   "source": [
    "### 모델 구축\n",
    "- 샘플의 갯수가 적기 때문에 64 unit 을 가진 2개의 중간 층을 사용\n",
    "- training 데이터가 적을수록, overfitting 가능성이 커지나, 모델을 작게 가져가서 이러한 문제를 완화"
   ]
  },
  {
   "cell_type": "markdown",
   "metadata": {
    "id": "PumyCN8VdGGc"
   },
   "source": [
    "- 모델 정의  \n",
    "마지막 층이 단일 unit 을 가진 activation 이 없는 층으로 정의. 이것은 linear layer 로 전형적인 scalar regression 의 정의\n",
    "즉 단일의 계속적인 값을 예측하는 회귀 문제임  \n",
    "마지막 층이 순전히 선형이므로, 어떤 범위의 값이든 학습하도록 허용된다.  \n",
    "loss 함수로 mean squre error 를 선택하였는데, 회귀 문제에서 널리 쓰이는 함수  \n",
    "훈련중의 측정지수로 mean absolute error 를 측정하는데, 실제값과 예측값과의 차이를 표시한다. 만약 0.5 값이 나오면 500$이 차이라는 뜻"
   ]
  },
  {
   "cell_type": "code",
   "execution_count": null,
   "metadata": {
    "id": "wHFxNLszhQjz"
   },
   "outputs": [],
   "source": [
    "def build_model():\n",
    "    model = keras.Sequential([\n",
    "        layers.Dense(64, activation=\"relu\"),\n",
    "        layers.Dense(64, activation=\"relu\"),\n",
    "        layers.Dense(1)\n",
    "    ])\n",
    "    model.compile(optimizer=\"rmsprop\", loss=\"mse\", metrics=[\"mae\"])\n",
    "    return model"
   ]
  },
  {
   "cell_type": "markdown",
   "metadata": {
    "id": "WOJt-ML4hAwI"
   },
   "source": [
    "### K-fold cross validation\n",
    "- 데이터세트가 작아서 validation data 가 100여개 수준\n",
    "- 이 경우, 어떤 데이터가 validation 으로 속하는 가에 대한 variance 가 validation score 가 많은 영향을 끼침\n",
    "- 이러한 상황에, K-fole cross validation 이 best practice 가 될 수 있음\n",
    "- 예를 들어 3-fold cross validation 라면 가용 데이터를 3개로 복제하고 또 각각을 3개로 분할하여  \n",
    "- 첫번째 fold 의 첫번째 파티션을 validation (이 경우, 두번째, 세번째 파티션을 training) 으로, 두번째 fold 의 두번째 파티션을 valiation, 세번째 fold 의 세번째 파티션을 validation 으로 훈련하여 이 셋을 평균 낸 점수를 사용하는 것이다"
   ]
  },
  {
   "cell_type": "code",
   "execution_count": null,
   "metadata": {
    "id": "jQJEYfVvfznP"
   },
   "outputs": [],
   "source": [
    "import numpy as np\n",
    "from tensorflow import keras\n",
    "from tensorflow.keras import layers\n",
    "\n",
    "k = 4\n",
    "num_val_samples = len(train_data) // k\n",
    "num_epochs = 100\n",
    "all_scores = []\n",
    "for i in range(k):\n",
    "    print(f\"Processing fold #{i}\")\n",
    "    val_data = train_data[i * num_val_samples: (i + 1) * num_val_samples]\n",
    "    val_targets = train_targets[i * num_val_samples: (i + 1) * num_val_samples]\n",
    "    partial_train_data = np.concatenate(\n",
    "        [train_data[:i * num_val_samples],\n",
    "         train_data[(i + 1) * num_val_samples:]],\n",
    "        axis=0)\n",
    "    partial_train_targets = np.concatenate(\n",
    "        [train_targets[:i * num_val_samples],\n",
    "         train_targets[(i + 1) * num_val_samples:]],\n",
    "        axis=0)\n",
    "    model = build_model()\n",
    "    model.fit(partial_train_data, partial_train_targets,\n",
    "              epochs=num_epochs, batch_size=1, verbose=0)\n",
    "    val_mse, val_mae = model.evaluate(val_data, val_targets, verbose=0)\n",
    "    all_scores.append(val_mae)"
   ]
  },
  {
   "cell_type": "code",
   "execution_count": null,
   "metadata": {
    "id": "zM0wz2TueuA6"
   },
   "outputs": [],
   "source": [
    "all_scores"
   ]
  },
  {
   "cell_type": "markdown",
   "metadata": {
    "id": "jZx1L_1Vcmxv"
   },
   "source": [
    "-4개 fold 의 평균값을 구하면"
   ]
  },
  {
   "cell_type": "code",
   "execution_count": null,
   "metadata": {
    "id": "2OcguDfBcmmg"
   },
   "outputs": [],
   "source": [
    "np.mean(all_scores)"
   ]
  },
  {
   "cell_type": "markdown",
   "metadata": {
    "id": "nzr5vRr5caGF"
   },
   "source": [
    "- 주택 값의 범위가 10,000 dollar 에서  50,000 dollar 범위 인것을 감안하면, 2,600$의 차이가 보이는 것은 적은 숫자가 아니다."
   ]
  },
  {
   "cell_type": "markdown",
   "metadata": {
    "id": "NpXvGjfnjHgY"
   },
   "source": [
    "\n",
    "- 500 epoch 로 훈련을 시켜보자\n",
    "- 모델의 훈련 상황을 모니터링하기위해 history 를 이용하여 epoch 당 validation score 를 저장하도록 함"
   ]
  },
  {
   "cell_type": "code",
   "execution_count": null,
   "metadata": {
    "id": "T20u1anCi8NP"
   },
   "outputs": [
    {
     "name": "stdout",
     "output_type": "stream",
     "text": [
      "Processing fold #1\n"
     ]
    }
   ],
   "source": [
    "num_epochs = 500\n",
    "all_mae_histories = []\n",
    "for i in range(k):\n",
    "    print(f\"Processing fold #{i}\")\n",
    "    val_data = train_data[i * num_val_samples: (i + 1) * num_val_samples]\n",
    "    val_targets = train_targets[i * num_val_samples: (i + 1) * num_val_samples]\n",
    "    partial_train_data = np.concatenate(\n",
    "        [train_data[:i * num_val_samples],\n",
    "         train_data[(i + 1) * num_val_samples:]],\n",
    "        axis=0)\n",
    "    partial_train_targets = np.concatenate(\n",
    "        [train_targets[:i * num_val_samples],\n",
    "         train_targets[(i + 1) * num_val_samples:]],\n",
    "        axis=0)\n",
    "    model = build_model()\n",
    "    history = model.fit(partial_train_data, partial_train_targets,\n",
    "                        validation_data=(val_data, val_targets),\n",
    "                        epochs=num_epochs, batch_size=1, verbose=0)\n",
    "    mae_history = history.history[\"val_mae\"]\n",
    "    all_mae_histories.append(mae_history)\n"
   ]
  },
  {
   "cell_type": "markdown",
   "metadata": {
    "id": "xIwcFT4MlZEi"
   },
   "source": [
    "- Building the history of successive mean K-fold validation scores"
   ]
  },
  {
   "cell_type": "code",
   "execution_count": null,
   "metadata": {
    "id": "ZTTriO8FlSML"
   },
   "outputs": [],
   "source": [
    "average_mae_history = [\n",
    "    np.mean([x[i] for x in all_mae_histories]) for i in range(num_epochs)]"
   ]
  },
  {
   "cell_type": "markdown",
   "metadata": {
    "id": "jpKkhMoZljco"
   },
   "source": [
    "- Validation score 를 plot "
   ]
  },
  {
   "cell_type": "code",
   "execution_count": null,
   "metadata": {
    "id": "kuE59XHEl22K"
   },
   "outputs": [],
   "source": [
    " plt.plot(range(1, len(average_mae_history) + 1), average_mae_history)\n",
    "plt.xlabel(\"Epochs\")\n",
    "plt.ylabel(\"Validation MAE\")\n",
    "plt.show()"
   ]
  },
  {
   "cell_type": "markdown",
   "metadata": {
    "id": "qnf4o2V5lcPn"
   },
   "source": [
    "**처음 10개 데이터 포인트를 제거하고 자연스러운 validation score 를 plot"
   ]
  },
  {
   "cell_type": "code",
   "execution_count": null,
   "metadata": {
    "id": "tzzt5nUpmEe3"
   },
   "outputs": [],
   "source": [
    "def smooth_curve(points, factor=0.9):\n",
    "    smoothed_points = []\n",
    "    for point in points:\n",
    "        if smoothed_points:\n",
    "            previous = smoothed_points[-1]\n",
    "            smoothed_points.append(previous * factor + point * (1 - factor))\n",
    "        else:\n",
    "            smoothed_points.append(point)\n",
    "    return smoothed_points\n",
    "smooth_mae_history = smooth_curve(average_mae_history[10:])\n",
    "plt.plot(range(1, len(smooth_mae_history) + 1), smooth_mae_history)\n",
    "plt.xlabel(\"Epochs\")\n",
    "plt.ylabel(\"Validation MAE\")\n",
    "plt.show()"
   ]
  },
  {
   "cell_type": "markdown",
   "metadata": {
    "id": "rnihuLdWmE75"
   },
   "source": [
    "### Training Final Model\n",
    "\n"
   ]
  },
  {
   "cell_type": "code",
   "execution_count": null,
   "metadata": {
    "id": "4jW08YtPl1iS"
   },
   "outputs": [],
   "source": [
    "model = build_model()\n",
    "model.fit(train_data, train_targets,\n",
    "          epochs=80, batch_size=16, verbose=0)\n",
    "test_mse_score, test_mae_score = model.evaluate(test_data, test_targets)"
   ]
  },
  {
   "cell_type": "code",
   "execution_count": null,
   "metadata": {
    "id": "ybiTFDmlmes8"
   },
   "outputs": [],
   "source": [
    "test_mae_score\n"
   ]
  },
  {
   "cell_type": "markdown",
   "metadata": {
    "id": "HNvJLH8hmsdf"
   },
   "source": [
    "### 새로운 데이터를 대상으로 예측"
   ]
  },
  {
   "cell_type": "code",
   "execution_count": null,
   "metadata": {
    "id": "A169XuO4mKxF"
   },
   "outputs": [],
   "source": [
    "predictions = model.predict(test_data)\n",
    "predictions[0]"
   ]
  }
 ],
 "metadata": {
  "colab": {
   "collapsed_sections": [],
   "name": "premade.ipynb",
   "toc_visible": true
  },
  "kernelspec": {
   "display_name": "tf2.3.0-keras2.4.0-py3.7-cuda10.1",
   "language": "python",
   "name": "tf2.3.0-keras2.4.0-py3.7-cuda10.1"
  },
  "language_info": {
   "codemirror_mode": {
    "name": "ipython",
    "version": 3
   },
   "file_extension": ".py",
   "mimetype": "text/x-python",
   "name": "python",
   "nbconvert_exporter": "python",
   "pygments_lexer": "ipython3",
   "version": "3.7.5"
  }
 },
 "nbformat": 4,
 "nbformat_minor": 1
}
